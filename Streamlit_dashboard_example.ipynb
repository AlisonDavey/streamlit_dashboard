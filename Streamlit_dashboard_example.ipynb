{
 "cells": [
  {
   "cell_type": "markdown",
   "id": "8f1cf15b",
   "metadata": {},
   "source": [
    "# In-Product Dashboard: Streamlit example\n",
    "Data for a single user thanks to the limited scope token"
   ]
  },
  {
   "cell_type": "code",
   "execution_count": 76,
   "id": "145ffe36",
   "metadata": {},
   "outputs": [
    {
     "name": "stdout",
     "output_type": "stream",
     "text": [
      "Overwriting dashboard.py\n"
     ]
    }
   ],
   "source": [
    "%%writefile dashboard.py\n",
    "import streamlit as st\n",
    "import pandas as pd\n",
    "import plotly.express as px\n",
    "import datetime\n",
    "\n",
    "import plotly.graph_objects as go\n",
    "\n",
    "\n",
    "def main():\n",
    "    \n",
    "    st.title('In-Product Dashboard for your user')\n",
    "    st.header('Events per hour for a single user')\n",
    "    \n",
    "    # time selection\n",
    "    \n",
    "    add_sidebar = st.sidebar.selectbox('All events or single event type', ('All events','Single event type'))\n",
    "    if add_sidebar == 'Single event type':  \n",
    "        event=st.sidebar.selectbox('Single event type', ('AA','BB','CC','DD','EE','FF','GG','HH','II','JJ','KK'))\n",
    "    \n",
    "    dates = st.sidebar.slider('Date range:', \n",
    "                               value=(datetime.date(2022,3,11), datetime.date(2022,3,14)),\n",
    "                               min_value = datetime.date(2022,3,11),\n",
    "                               max_value = datetime.date(2022,3,11))\n",
    "\n",
    "    times = st.sidebar.slider('Time range:', \n",
    "                               value=(datetime.time(0), datetime.time(23)))\n",
    "    \n",
    "    start = dates[0].strftime(\"%Y-%m-%d\")+'T'+times[0].strftime(\"%H-%M-%S\")\n",
    "    end = dates[1].strftime(\"%Y-%m-%d\")+'T'+times[1].strftime(\"%H-%M-%S\")\n",
    "    \n",
    "    st.sidebar.write(\"Join our [Tinybird](https://www.tinybird.co) [Slack](https://join.slack.com/t/tinybird-community/shared_invite/zt-yi4hb0ht-IXn9iVuewXIs3QXVqKS~NQ) community\") \n",
    "    \n",
    "\n",
    "    # API call\n",
    "    pipes_api='https://api.tinybird.co/v0/pipes/'\n",
    "    pipe_mv='events_hour_pipe.csv'\n",
    "    token_mv='p.eyJ1IjogImEyNGY5NWFhLTM3MzMtNGIyNy05NzVkLWRkYmY4OWExZjMyOSIsICJpZCI6ICJmNWM1NThiMS0zZjA3LTRhYzgtYjQ1Mi04OTgzZTU2ZTk1MDcifQ.Y0D-gimVEfcY1hLpEa66uS0ssSX9JKw2NZW-Nk2cFcg'\n",
    "    \n",
    "    url=pipes_api+pipe_mv+\"?start_date=\"+start+\"&end_date=\"+end+\"&token=\"+token_mv\n",
    "    df=pd.read_csv(url)\n",
    "    \n",
    "    # chart\n",
    "    if add_sidebar == 'All events':                                                                       \n",
    "        plot = px.bar(\n",
    "                data_frame=df,\n",
    "                x = \"hour\",\n",
    "                y = \"number\",\n",
    "                color = \"event\",\n",
    "                color_discrete_sequence=px.colors.qualitative.T10,\n",
    "                labels={\n",
    "                     \"hour\": \"Hour\",\n",
    "                     \"event\": \"Event\",\n",
    "                     \"number\": \"Count\"\n",
    "                 }, height=600)\n",
    "    \n",
    "\n",
    "        st.plotly_chart(plot, use_container_width=True)\n",
    "        \n",
    "    if add_sidebar == 'Single event type':  \n",
    "        df_event = df[df.event==event]\n",
    "        fig2 = go.Figure()\n",
    "        fig2.add_trace(go.Scatter(x=df_event.hour, y=df_event.number,\n",
    "                        mode='lines', \n",
    "                        line=dict(color='green',width=1)))\n",
    "        fig2.update_layout(title=event,\n",
    "                   xaxis_title='Hour',\n",
    "                   yaxis_title='Events')\n",
    "        st.plotly_chart(fig2)\n",
    "\n",
    "if __name__ == '__main__':\n",
    "\tmain()"
   ]
  },
  {
   "cell_type": "code",
   "execution_count": null,
   "id": "c073c4d3",
   "metadata": {},
   "outputs": [
    {
     "name": "stdout",
     "output_type": "stream",
     "text": [
      "\u001b[0m\n",
      "\u001b[34m\u001b[1m  You can now view your Streamlit app in your browser.\u001b[0m\n",
      "\u001b[0m\n",
      "\u001b[34m  Local URL: \u001b[0m\u001b[1mhttp://localhost:8501\u001b[0m\n",
      "\u001b[34m  Network URL: \u001b[0m\u001b[1mhttp://192.168.1.18:8501\u001b[0m\n",
      "\u001b[0m\n"
     ]
    }
   ],
   "source": [
    "!streamlit run dashboard.py"
   ]
  },
  {
   "cell_type": "code",
   "execution_count": null,
   "id": "1e551ea9",
   "metadata": {},
   "outputs": [],
   "source": []
  }
 ],
 "metadata": {
  "kernelspec": {
   "display_name": "Python 3 (ipykernel)",
   "language": "python",
   "name": "python3"
  },
  "language_info": {
   "codemirror_mode": {
    "name": "ipython",
    "version": 3
   },
   "file_extension": ".py",
   "mimetype": "text/x-python",
   "name": "python",
   "nbconvert_exporter": "python",
   "pygments_lexer": "ipython3",
   "version": "3.9.7"
  }
 },
 "nbformat": 4,
 "nbformat_minor": 5
}
