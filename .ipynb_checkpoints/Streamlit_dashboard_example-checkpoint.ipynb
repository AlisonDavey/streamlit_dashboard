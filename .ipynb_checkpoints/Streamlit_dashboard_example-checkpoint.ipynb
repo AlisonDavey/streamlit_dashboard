{
 "cells": [
  {
   "cell_type": "markdown",
   "id": "8f1cf15b",
   "metadata": {},
   "source": [
    "# In-Product Dashboard: Streamlit example\n",
    "Data for a single user thanks to the limited scope token"
   ]
  },
  {
   "cell_type": "code",
   "execution_count": 16,
   "id": "145ffe36",
   "metadata": {},
   "outputs": [
    {
     "name": "stdout",
     "output_type": "stream",
     "text": [
      "Overwriting dashboard.py\n"
     ]
    }
   ],
   "source": [
    "%%writefile dashboard.py\n",
    "import streamlit as st\n",
    "import pandas as pd\n",
    "import plotly.express as px\n",
    "import datetime\n",
    "\n",
    "def main():\n",
    "    \n",
    "    # time selection\n",
    "    st.sidebar.title(\"Select time period\")\n",
    "    start_date = st.sidebar.date_input('Start date', min_value = datetime.date(2022,3,11), max_value = datetime.date(2022,3,14), value = datetime.date(2022,3,11))\n",
    "    start_time = st.sidebar.time_input('Start time', value = datetime.time(16))\n",
    "    \n",
    "    end_date = st.sidebar.date_input('End date', min_value = datetime.date(2022,3,11), max_value = datetime.date(2022,3,14), value = datetime.date(2022,3,14))\n",
    "    end_time = st.sidebar.time_input('End time', value = datetime.time(22))\n",
    "\n",
    "    start = start_date.strftime(\"%Y-%m-%d\")+'T'+start_time.strftime(\"%H-%M-%S\")\n",
    "    end = end_date.strftime(\"%Y-%m-%d\")+'T'+end_time.strftime(\"%H-%M-%S\")\n",
    "    \n",
    "    # API call\n",
    "    pipes_api='https://api.tinybird.co/v0/pipes/'\n",
    "    pipe_mv='events_hour_pipe.csv'\n",
    "    token_mv='p.eyJ1IjogImEyNGY5NWFhLTM3MzMtNGIyNy05NzVkLWRkYmY4OWExZjMyOSIsICJpZCI6ICJmNWM1NThiMS0zZjA3LTRhYzgtYjQ1Mi04OTgzZTU2ZTk1MDcifQ.Y0D-gimVEfcY1hLpEa66uS0ssSX9JKw2NZW-Nk2cFcg'\n",
    "    \n",
    "    url=pipes_api+pipe_mv+\"?start_date=\"+start+\"&end_date=\"+end+\"&token=\"+token_mv\n",
    "    df=pd.read_csv(url)\n",
    "    \n",
    "    # chart\n",
    "    plot = px.bar(\n",
    "                data_frame=df,\n",
    "                x = \"hour\",\n",
    "                y = \"number\",\n",
    "                color = \"event\",\n",
    "                color_discrete_sequence=px.colors.qualitative.T10,\n",
    "                labels={\n",
    "                     \"hour\": \"Hour\",\n",
    "                     \"event\": \"Event\",\n",
    "                     \"number\": \"Count\"\n",
    "                 }, height=600)\n",
    "    \n",
    "    st.write(\"Join our [Tinybird](https://www.tinybird.co) [Slack](https://join.slack.com/t/tinybird-community/shared_invite/zt-yi4hb0ht-IXn9iVuewXIs3QXVqKS~NQ) community\") \n",
    "    st.title('In-Product Dashboard for your user')\n",
    "    st.header('Events per hour for a single user')\n",
    "    st.plotly_chart(plot, use_container_width=True)\n",
    "\n",
    "if __name__ == '__main__':\n",
    "\tmain()"
   ]
  },
  {
   "cell_type": "code",
   "execution_count": 17,
   "id": "c073c4d3",
   "metadata": {},
   "outputs": [
    {
     "name": "stdout",
     "output_type": "stream",
     "text": [
      "\u001b[0m\n",
      "\u001b[34m\u001b[1m  You can now view your Streamlit app in your browser.\u001b[0m\n",
      "\u001b[0m\n",
      "\u001b[34m  Local URL: \u001b[0m\u001b[1mhttp://localhost:8502\u001b[0m\n",
      "\u001b[34m  Network URL: \u001b[0m\u001b[1mhttp://192.168.1.18:8502\u001b[0m\n",
      "\u001b[0m\n",
      "^C\n",
      "\u001b[34m  Stopping...\u001b[0m\n"
     ]
    }
   ],
   "source": [
    "!streamlit run dashboard.py"
   ]
  },
  {
   "cell_type": "code",
   "execution_count": null,
   "id": "1e551ea9",
   "metadata": {},
   "outputs": [],
   "source": []
  }
 ],
 "metadata": {
  "kernelspec": {
   "display_name": "Python 3 (ipykernel)",
   "language": "python",
   "name": "python3"
  },
  "language_info": {
   "codemirror_mode": {
    "name": "ipython",
    "version": 3
   },
   "file_extension": ".py",
   "mimetype": "text/x-python",
   "name": "python",
   "nbconvert_exporter": "python",
   "pygments_lexer": "ipython3",
   "version": "3.9.7"
  }
 },
 "nbformat": 4,
 "nbformat_minor": 5
}
